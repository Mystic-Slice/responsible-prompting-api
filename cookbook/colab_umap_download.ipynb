{
 "cells": [
  {
   "cell_type": "code",
   "execution_count": null,
   "id": "09650af8",
   "metadata": {},
   "outputs": [],
   "source": [
    "!pip install wget"
   ]
  },
  {
   "cell_type": "code",
   "execution_count": 6,
   "id": "27263dd8",
   "metadata": {},
   "outputs": [],
   "source": [
    "# Models with existing json sentences output files\n",
    "model_id = \"sentence-transformers/all-MiniLM-L6-v2\""
   ]
  },
  {
   "cell_type": "code",
   "execution_count": null,
   "id": "54499fc2",
   "metadata": {},
   "outputs": [],
   "source": [
    "import wget\n",
    "import os\n",
    "\n",
    "# This method will help in downloading pre-computed embeddings corpus and the code files\n",
    "def download_file(filename, url, parent_folder=\"\"):\n",
    "    if parent_folder != \"\" and not os.path.exists(parent_folder):\n",
    "        os.makedirs(parent_folder)\n",
    "    if not os.path.isfile(f\"{parent_folder}{filename}\"):\n",
    "        wget.download(url, out = f\"{parent_folder}{filename}\")"
   ]
  },
  {
   "cell_type": "markdown",
   "id": "450a5ae7",
   "metadata": {},
   "source": [
    "## Download json file with embeddings"
   ]
  },
  {
   "cell_type": "code",
   "execution_count": 8,
   "id": "61694a67",
   "metadata": {},
   "outputs": [],
   "source": [
    "download_file(\n",
    "    f\"prompt_sentences-{model_id.split('/')[1]}.json\",\n",
    "    f\"https://raw.githubusercontent.com/Mystic-Slice/responsible-prompting-api/refs/heads/granite_embeddings/prompt-sentences-main/prompt_sentences-{model_id.split('/')[1].lower()}.json\",\n",
    "    \"prompt-sentences-main/\"\n",
    ")"
   ]
  },
  {
   "cell_type": "markdown",
   "id": "c680a963",
   "metadata": {},
   "source": [
    "## Download umap models"
   ]
  },
  {
   "cell_type": "code",
   "execution_count": 10,
   "id": "e4a32cfe",
   "metadata": {},
   "outputs": [],
   "source": [
    "download_file(\n",
    "    \"saved_model.pb\",\n",
    "    f\"https://github.com/IBM/responsible-prompting-api/raw/refs/heads/main/models/umap/{model_id}/saved_model.pb\",\n",
    "    f\"models/umap/{model_id}/\"\n",
    ")\n",
    "\n",
    "download_file(\n",
    "    \"umap_config.json\",\n",
    "    f\"https://github.com/IBM/responsible-prompting-api/raw/refs/heads/main/models/umap/{model_id}/umap_config.json\",\n",
    "    f\"models/umap/{model_id}/\"\n",
    ")"
   ]
  },
  {
   "cell_type": "markdown",
   "id": "948e97ec",
   "metadata": {},
   "source": [
    "Github link format to download model weights, binary and other non-text files (note the 'raw' in link):\n",
    "\n",
    "`https://github.com/<USER_NAME>/<PROJECT_NAME>/raw/refs/heads/<BRANCH_NAME>/<PATH_TO_FILE_IN_REPO>`"
   ]
  },
  {
   "cell_type": "markdown",
   "id": "c21e24a7",
   "metadata": {},
   "source": []
  }
 ],
 "metadata": {
  "kernelspec": {
   "display_name": "resapi",
   "language": "python",
   "name": "python3"
  },
  "language_info": {
   "codemirror_mode": {
    "name": "ipython",
    "version": 3
   },
   "file_extension": ".py",
   "mimetype": "text/x-python",
   "name": "python",
   "nbconvert_exporter": "python",
   "pygments_lexer": "ipython3",
   "version": "3.9.21"
  }
 },
 "nbformat": 4,
 "nbformat_minor": 5
}
